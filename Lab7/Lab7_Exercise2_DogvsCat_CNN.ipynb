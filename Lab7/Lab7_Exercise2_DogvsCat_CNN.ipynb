{
  "nbformat": 4,
  "nbformat_minor": 0,
  "metadata": {
    "colab": {
      "name": "Lab7_Exercise2_DogvsCat_CNN.ipynb",
      "provenance": [],
      "collapsed_sections": []
    },
    "kernelspec": {
      "name": "python3",
      "display_name": "Python 3"
    },
    "accelerator": "GPU"
  },
  "cells": [
    {
      "cell_type": "markdown",
      "metadata": {
        "id": "qTh9DiKVslsJ"
      },
      "source": [
        "## Dogs vs. Cats \n",
        "\n",
        "In this competition, you'll write an algorithm to classify whether images contain either a dog or a cat.  This is easy for humans, dogs, and cats. Your computer will find it a bit more difficult.\n",
        "\n",
        "![alt text](https://miro.medium.com/max/3000/1*bhFifratH9DjKqMBTeQG5A.gif)\n",
        "\n",
        "Ref: https://medium.com/@thegrigorian/rolling-in-the-deep-cnn-c8d3f7108c8c"
      ]
    },
    {
      "cell_type": "markdown",
      "metadata": {
        "id": "RSBI-_mSSY1g"
      },
      "source": [
        "Get your API Key from Kaggle using following steps:\n",
        "1. Login to [Kaggle](https://www.kaggle.com/) or Register if you don't have account\n",
        "2. Open Dataset (https://www.kaggle.com/c/dogs-vs-cats/rules) and accept terms and condition. \n",
        "3. On the top right corner click on your Icon and go to accounts and press a button \"Create New API Token\". It will download a JSON file containing your username and key. \n",
        "4. Now, paste both below. \n"
      ]
    },
    {
      "cell_type": "code",
      "metadata": {
        "id": "YmXSOc0tZIGA",
        "colab": {
          "base_uri": "https://localhost:8080/"
        },
        "outputId": "713072a1-3f01-4805-d270-cda092a343be"
      },
      "source": [
        "import os\n",
        "os.environ['KAGGLE_USERNAME'] = \"vallabhvrao\" # username from the json file\n",
        "os.environ['KAGGLE_KEY'] = \"11ad678c12a10dc705ce516a3401edad\" # key from the json file\n",
        "!kaggle competitions download -c dogs-vs-cats # api copied from kaggle (https://www.kaggle.com/c/dogs-vs-cats/data)"
      ],
      "execution_count": null,
      "outputs": [
        {
          "output_type": "stream",
          "text": [
            "Warning: Looks like you're using an outdated API Version, please consider updating (server 1.5.12 / client 1.5.4)\n",
            "Downloading sampleSubmission.csv to /content\n",
            "  0% 0.00/86.8k [00:00<?, ?B/s]\n",
            "100% 86.8k/86.8k [00:00<00:00, 32.4MB/s]\n",
            "Downloading train.zip to /content\n",
            " 99% 539M/543M [00:29<00:00, 22.2MB/s]\n",
            "100% 543M/543M [00:29<00:00, 19.2MB/s]\n",
            "Downloading test1.zip to /content\n",
            " 99% 268M/271M [00:16<00:00, 17.3MB/s]\n",
            "100% 271M/271M [00:16<00:00, 17.1MB/s]\n"
          ],
          "name": "stdout"
        }
      ]
    },
    {
      "cell_type": "code",
      "metadata": {
        "id": "PiwIL8d1n7eS",
        "colab": {
          "base_uri": "https://localhost:8080/"
        },
        "outputId": "cc80ad59-88e0-4a19-a5ba-854f69e8261e"
      },
      "source": [
        "# Unzip training data\n",
        "from zipfile import ZipFile\n",
        "file_name = \"/content/train.zip\"\n",
        "with ZipFile(file_name, 'r') as zip:\n",
        "  zip.extractall()\n",
        "  print('done')"
      ],
      "execution_count": null,
      "outputs": [
        {
          "output_type": "stream",
          "text": [
            "done\n"
          ],
          "name": "stdout"
        }
      ]
    },
    {
      "cell_type": "code",
      "metadata": {
        "id": "sa2Bj5i7pPKV",
        "colab": {
          "base_uri": "https://localhost:8080/"
        },
        "outputId": "07bd9d0e-8c13-4178-9694-e80fb6780ab8"
      },
      "source": [
        "# Get all the paths\n",
        "data_dir_list = os.listdir('/content/train')\n",
        "#print(data_dir_list)\n",
        "path, dirs, files = next(os.walk(\"/content/train\"))\n",
        "file_count = len(files)\n",
        "print(file_count)"
      ],
      "execution_count": null,
      "outputs": [
        {
          "output_type": "stream",
          "text": [
            "25000\n"
          ],
          "name": "stdout"
        }
      ]
    },
    {
      "cell_type": "code",
      "metadata": {
        "id": "0ERlHkfHqpK8"
      },
      "source": [
        "# Make new base directory\n",
        "original_dataset_dir = '/content/train'\n",
        "base_dir = '/content/cats_and_dogs_small'\n",
        "os.mkdir(base_dir)"
      ],
      "execution_count": null,
      "outputs": []
    },
    {
      "cell_type": "code",
      "metadata": {
        "id": "AANB1UJ6rQhM"
      },
      "source": [
        "train_dir = os.path.join(base_dir, 'train')\n",
        "os.mkdir(train_dir)\n",
        "\n",
        "validation_dir = os.path.join(base_dir, 'validation')\n",
        "os.mkdir(validation_dir)\n",
        "\n",
        "test_dir = os.path.join(base_dir, 'test')\n",
        "os.mkdir(test_dir)\n",
        "\n",
        "train_cats_dir = os.path.join(train_dir, 'cats')\n",
        "os.mkdir(train_cats_dir)\n",
        "\n",
        "train_dogs_dir = os.path.join(train_dir, 'dogs')\n",
        "os.mkdir(train_dogs_dir)\n",
        "\n",
        "validation_cats_dir = os.path.join(validation_dir, 'cats')\n",
        "os.mkdir(validation_cats_dir)\n",
        "\n",
        "validation_dogs_dir = os.path.join(validation_dir, 'dogs')\n",
        "os.mkdir(validation_dogs_dir)\n",
        "\n",
        "test_cats_dir = os.path.join(test_dir, 'cats')\n",
        "os.mkdir(test_cats_dir)\n",
        "\n",
        "test_dogs_dir = os.path.join(test_dir, 'dogs')\n",
        "os.mkdir(test_dogs_dir)"
      ],
      "execution_count": null,
      "outputs": []
    },
    {
      "cell_type": "code",
      "metadata": {
        "id": "ULRgL9s9rV8T"
      },
      "source": [
        "import shutil\n",
        "fnames = ['cat.{}.jpg'.format(i) for i in range(1000)]\n",
        "for fname in fnames:\n",
        "    src = os.path.join(original_dataset_dir, fname)\n",
        "    dst = os.path.join(train_cats_dir, fname)\n",
        "    #print(src,dst)\n",
        "    shutil.copyfile(src, dst)\n",
        "    \n",
        "fnames = ['cat.{}.jpg'.format(i) for i in range(1000, 1500)]\n",
        "for fname in fnames:\n",
        "    src = os.path.join(original_dataset_dir, fname)\n",
        "    dst = os.path.join(validation_cats_dir, fname)\n",
        "    shutil.copyfile(src, dst)\n",
        "\n",
        "fnames = ['cat.{}.jpg'.format(i) for i in range(1500, 2000)]\n",
        "for fname in fnames:\n",
        "    src = os.path.join(original_dataset_dir, fname)\n",
        "    dst = os.path.join(test_cats_dir, fname)\n",
        "    shutil.copyfile(src, dst)\n",
        "    \n",
        "fnames = ['dog.{}.jpg'.format(i) for i in range(1000)]\n",
        "for fname in fnames:\n",
        "    src = os.path.join(original_dataset_dir, fname)\n",
        "    dst = os.path.join(train_dogs_dir, fname)\n",
        "    shutil.copyfile(src, dst)\n",
        "\n",
        "fnames = ['dog.{}.jpg'.format(i) for i in range(1000, 1500)]\n",
        "for fname in fnames:\n",
        "    src = os.path.join(original_dataset_dir, fname)\n",
        "    dst = os.path.join(validation_dogs_dir, fname)\n",
        "    shutil.copyfile(src, dst)\n",
        "\n",
        "fnames = ['dog.{}.jpg'.format(i) for i in range(1500, 2000)]\n",
        "for fname in fnames:\n",
        "    src = os.path.join(original_dataset_dir, fname)\n",
        "    dst = os.path.join(test_dogs_dir, fname)\n",
        "    shutil.copyfile(src, dst)"
      ],
      "execution_count": null,
      "outputs": []
    },
    {
      "cell_type": "code",
      "metadata": {
        "id": "ul3XAbIyr7vC",
        "colab": {
          "base_uri": "https://localhost:8080/"
        },
        "outputId": "05d3b82d-aaf3-467f-84ca-655042b83542"
      },
      "source": [
        "print('total training cat images:', len(os.listdir(train_cats_dir)))\n",
        "print('total training dog images:', len(os.listdir(train_dogs_dir)))\n",
        "print('total validation cat images:', len(os.listdir(validation_cats_dir)))\n",
        "\n",
        "print('total validation dog images:', len(os.listdir(validation_dogs_dir)))\n",
        "print('total test cat images:', len(os.listdir(test_cats_dir)))\n",
        "print('total test dog images:', len(os.listdir(test_dogs_dir)))"
      ],
      "execution_count": null,
      "outputs": [
        {
          "output_type": "stream",
          "text": [
            "total training cat images: 1000\n",
            "total training dog images: 1000\n",
            "total validation cat images: 500\n",
            "total validation dog images: 500\n",
            "total test cat images: 500\n",
            "total test dog images: 500\n"
          ],
          "name": "stdout"
        }
      ]
    },
    {
      "cell_type": "code",
      "metadata": {
        "id": "o9yTA21_r-ma",
        "colab": {
          "base_uri": "https://localhost:8080/"
        },
        "outputId": "363e012d-4b17-4313-d581-2d8c2b8f8af3"
      },
      "source": [
        "from keras import layers\n",
        "from keras import models\n",
        "\n",
        "model = models.Sequential()\n",
        "model.add(layers.Conv2D(32, (3, 3), activation='relu', input_shape=(150, 150, 3)))\n",
        "model.add(layers.MaxPooling2D((2, 2)))\n",
        "model.add(layers.Conv2D(64, (3, 3), activation='relu'))\n",
        "model.add(layers.MaxPooling2D((2, 2)))\n",
        "model.add(layers.Conv2D(128, (3, 3), activation='relu'))\n",
        "model.add(layers.MaxPooling2D((2, 2)))\n",
        "model.add(layers.Conv2D(128, (3, 3), activation='relu'))\n",
        "model.add(layers.MaxPooling2D((2, 2)))\n",
        "model.add(layers.Flatten())\n",
        "model.add(layers.Dense(512, activation='relu'))\n",
        "model.add(layers.Dense(1, activation='sigmoid'))\n",
        "model.summary()"
      ],
      "execution_count": null,
      "outputs": [
        {
          "output_type": "stream",
          "text": [
            "Model: \"sequential\"\n",
            "_________________________________________________________________\n",
            "Layer (type)                 Output Shape              Param #   \n",
            "=================================================================\n",
            "conv2d (Conv2D)              (None, 148, 148, 32)      896       \n",
            "_________________________________________________________________\n",
            "max_pooling2d (MaxPooling2D) (None, 74, 74, 32)        0         \n",
            "_________________________________________________________________\n",
            "conv2d_1 (Conv2D)            (None, 72, 72, 64)        18496     \n",
            "_________________________________________________________________\n",
            "max_pooling2d_1 (MaxPooling2 (None, 36, 36, 64)        0         \n",
            "_________________________________________________________________\n",
            "conv2d_2 (Conv2D)            (None, 34, 34, 128)       73856     \n",
            "_________________________________________________________________\n",
            "max_pooling2d_2 (MaxPooling2 (None, 17, 17, 128)       0         \n",
            "_________________________________________________________________\n",
            "conv2d_3 (Conv2D)            (None, 15, 15, 128)       147584    \n",
            "_________________________________________________________________\n",
            "max_pooling2d_3 (MaxPooling2 (None, 7, 7, 128)         0         \n",
            "_________________________________________________________________\n",
            "flatten (Flatten)            (None, 6272)              0         \n",
            "_________________________________________________________________\n",
            "dense (Dense)                (None, 512)               3211776   \n",
            "_________________________________________________________________\n",
            "dense_1 (Dense)              (None, 1)                 513       \n",
            "=================================================================\n",
            "Total params: 3,453,121\n",
            "Trainable params: 3,453,121\n",
            "Non-trainable params: 0\n",
            "_________________________________________________________________\n"
          ],
          "name": "stdout"
        }
      ]
    },
    {
      "cell_type": "code",
      "metadata": {
        "id": "2mG8wekxsBVS"
      },
      "source": [
        "from keras import optimizers\n",
        "model.compile(loss='binary_crossentropy', \n",
        "              optimizer=optimizers.RMSprop(lr=1e-4),\n",
        "              metrics=['acc'])"
      ],
      "execution_count": null,
      "outputs": []
    },
    {
      "cell_type": "markdown",
      "metadata": {
        "id": "7zS4Klm8qWp6"
      },
      "source": [
        "## Using ImageDataGenerator to read images from directories\n",
        "As you know by now, data should be formatted into appropriately preprocessed floatingpoint tensors before being fed into the network. Currently, the data sits on a drive as JPEG files, so the steps for getting it into the network are roughly as follows:\n",
        "\n",
        "* Read the picture files.\n",
        "* Decode the JPEG content to RGB grids of pixels.\n",
        "* Convert these into floating-point tensors.\n",
        "* Rescale the pixel values (between 0 and 255) to the [0, 1] interval (as you know, neural networks prefer to deal with small input values).\n",
        "\n",
        "It may seem a bit daunting, but fortunately Keras has utilities to take care of these steps automatically. Keras has a module with image-processing helper tools, located at keras.preprocessing.image. In particular, it contains the class ImageDataGenerator,which lets you quickly set up Python generators that can automatically turn image files on disk into batches of preprocessed tensors."
      ]
    },
    {
      "cell_type": "code",
      "metadata": {
        "id": "XJ7XU7t9sEh6",
        "colab": {
          "base_uri": "https://localhost:8080/"
        },
        "outputId": "b3065931-de74-42b9-a003-36201fa0ffdf"
      },
      "source": [
        "from keras.preprocessing.image import ImageDataGenerator\n",
        "\n",
        "train_datagen = ImageDataGenerator(rescale=1./255)\n",
        "test_datagen = ImageDataGenerator(rescale=1./255)\n",
        "\n",
        "train_generator = train_datagen.flow_from_directory(train_dir,\n",
        "                                                    target_size=(150, 150), \n",
        "                                                    batch_size=20,\n",
        "                                                    class_mode='binary')\n",
        "\n",
        "validation_generator = test_datagen.flow_from_directory(validation_dir,\n",
        "                                                        target_size=(150, 150),\n",
        "                                                        batch_size=20,\n",
        "                                                        class_mode='binary')"
      ],
      "execution_count": null,
      "outputs": [
        {
          "output_type": "stream",
          "text": [
            "Found 2000 images belonging to 2 classes.\n",
            "Found 1000 images belonging to 2 classes.\n"
          ],
          "name": "stdout"
        }
      ]
    },
    {
      "cell_type": "markdown",
      "metadata": {
        "id": "SEgLywySqm4u"
      },
      "source": [
        "Let’s fit the model to the data using the generator. You do so using the fit_generator method, the equivalent of fit for data generators like this one. It expects as its first argument a Python generator that will yield batches of inputs and targets indefinitely,like this one does. Because the data is being generated endlessly, the Keras model needs to know how many samples to draw from the generator before declaring anepoch over. This is the role of the `steps_per_epoch` argument: after having drawn `steps_per_epoch` batches from the generator—that is, after having run for `steps_per_epoch` gradient descent steps—the fitting process will go to the next epoch. In this case, batches are 20 samples, so it will take 100 batches until you see your target of 2,000 samples.\n",
        "\n",
        "When using fit_generator, you can pass a validation_data argument, much as with the fit method. It’s important to note that this argument is allowed to be a data generator, but it could also be a tuple of Numpy arrays. If you pass a generator as validation_data, then this generator is expected to yield batches of validation data endlessly; thus you should also specify the validation_steps argument, which tells the process how many batches to draw from the validation generator for evaluation."
      ]
    },
    {
      "cell_type": "code",
      "metadata": {
        "id": "yMyfPphJsJG6",
        "colab": {
          "base_uri": "https://localhost:8080/"
        },
        "outputId": "1e7fed1e-0eb2-47cf-d92e-e0cbecf7a6b3"
      },
      "source": [
        "history = model.fit_generator(train_generator,\n",
        "                              steps_per_epoch=100,\n",
        "                              epochs=30,\n",
        "                              validation_data=validation_generator,\n",
        "                              validation_steps=10)"
      ],
      "execution_count": null,
      "outputs": [
        {
          "output_type": "stream",
          "text": [
            "/usr/local/lib/python3.7/dist-packages/tensorflow/python/keras/engine/training.py:1844: UserWarning: `Model.fit_generator` is deprecated and will be removed in a future version. Please use `Model.fit`, which supports generators.\n",
            "  warnings.warn('`Model.fit_generator` is deprecated and '\n"
          ],
          "name": "stderr"
        },
        {
          "output_type": "stream",
          "text": [
            "Epoch 1/30\n",
            "100/100 [==============================] - 40s 92ms/step - loss: 0.6951 - acc: 0.5044 - val_loss: 0.6926 - val_acc: 0.5050\n",
            "Epoch 2/30\n",
            "100/100 [==============================] - 9s 90ms/step - loss: 0.6629 - acc: 0.6115 - val_loss: 0.6569 - val_acc: 0.5700\n",
            "Epoch 3/30\n",
            "100/100 [==============================] - 9s 90ms/step - loss: 0.6236 - acc: 0.6492 - val_loss: 0.6097 - val_acc: 0.6600\n",
            "Epoch 4/30\n",
            "100/100 [==============================] - 9s 89ms/step - loss: 0.5745 - acc: 0.6761 - val_loss: 0.5989 - val_acc: 0.6700\n",
            "Epoch 5/30\n",
            "100/100 [==============================] - 9s 89ms/step - loss: 0.5424 - acc: 0.7321 - val_loss: 0.6095 - val_acc: 0.6900\n",
            "Epoch 6/30\n",
            "100/100 [==============================] - 9s 89ms/step - loss: 0.5050 - acc: 0.7561 - val_loss: 0.5186 - val_acc: 0.7400\n",
            "Epoch 7/30\n",
            "100/100 [==============================] - 9s 89ms/step - loss: 0.4914 - acc: 0.7564 - val_loss: 0.5697 - val_acc: 0.6850\n",
            "Epoch 8/30\n",
            "100/100 [==============================] - 9s 89ms/step - loss: 0.4926 - acc: 0.7535 - val_loss: 0.5819 - val_acc: 0.7050\n",
            "Epoch 9/30\n",
            "100/100 [==============================] - 9s 90ms/step - loss: 0.4440 - acc: 0.7853 - val_loss: 0.5529 - val_acc: 0.7250\n",
            "Epoch 10/30\n",
            "100/100 [==============================] - 9s 90ms/step - loss: 0.3943 - acc: 0.8262 - val_loss: 0.5033 - val_acc: 0.7700\n",
            "Epoch 11/30\n",
            "100/100 [==============================] - 9s 90ms/step - loss: 0.3846 - acc: 0.8315 - val_loss: 0.5321 - val_acc: 0.7350\n",
            "Epoch 12/30\n",
            "100/100 [==============================] - 9s 90ms/step - loss: 0.3476 - acc: 0.8496 - val_loss: 0.6841 - val_acc: 0.6500\n",
            "Epoch 13/30\n",
            "100/100 [==============================] - 9s 90ms/step - loss: 0.3525 - acc: 0.8455 - val_loss: 0.5352 - val_acc: 0.7500\n",
            "Epoch 14/30\n",
            "100/100 [==============================] - 9s 89ms/step - loss: 0.3236 - acc: 0.8629 - val_loss: 0.5576 - val_acc: 0.7450\n",
            "Epoch 15/30\n",
            "100/100 [==============================] - 9s 89ms/step - loss: 0.2997 - acc: 0.8813 - val_loss: 0.5765 - val_acc: 0.7300\n",
            "Epoch 16/30\n",
            "100/100 [==============================] - 9s 90ms/step - loss: 0.2841 - acc: 0.8882 - val_loss: 0.5268 - val_acc: 0.7350\n",
            "Epoch 17/30\n",
            "100/100 [==============================] - 9s 90ms/step - loss: 0.2408 - acc: 0.9192 - val_loss: 0.6186 - val_acc: 0.7200\n",
            "Epoch 18/30\n",
            "100/100 [==============================] - 9s 89ms/step - loss: 0.2401 - acc: 0.9051 - val_loss: 0.6349 - val_acc: 0.7150\n",
            "Epoch 19/30\n",
            "100/100 [==============================] - 9s 89ms/step - loss: 0.2070 - acc: 0.9213 - val_loss: 0.6235 - val_acc: 0.7250\n",
            "Epoch 20/30\n",
            "100/100 [==============================] - 9s 90ms/step - loss: 0.1969 - acc: 0.9290 - val_loss: 0.6008 - val_acc: 0.7300\n",
            "Epoch 21/30\n",
            "100/100 [==============================] - 9s 89ms/step - loss: 0.1756 - acc: 0.9390 - val_loss: 0.6454 - val_acc: 0.7500\n",
            "Epoch 22/30\n",
            "100/100 [==============================] - 9s 89ms/step - loss: 0.1555 - acc: 0.9521 - val_loss: 0.7849 - val_acc: 0.6850\n",
            "Epoch 23/30\n",
            "100/100 [==============================] - 9s 90ms/step - loss: 0.1490 - acc: 0.9486 - val_loss: 0.7785 - val_acc: 0.7200\n",
            "Epoch 24/30\n",
            "100/100 [==============================] - 9s 90ms/step - loss: 0.1189 - acc: 0.9556 - val_loss: 0.7579 - val_acc: 0.7100\n",
            "Epoch 25/30\n",
            "100/100 [==============================] - 9s 90ms/step - loss: 0.1138 - acc: 0.9591 - val_loss: 0.7309 - val_acc: 0.7250\n",
            "Epoch 26/30\n",
            "100/100 [==============================] - 9s 90ms/step - loss: 0.1010 - acc: 0.9697 - val_loss: 0.7449 - val_acc: 0.7500\n",
            "Epoch 27/30\n",
            "100/100 [==============================] - 9s 90ms/step - loss: 0.0844 - acc: 0.9713 - val_loss: 0.6186 - val_acc: 0.7700\n",
            "Epoch 28/30\n",
            "100/100 [==============================] - 9s 89ms/step - loss: 0.0689 - acc: 0.9789 - val_loss: 0.8386 - val_acc: 0.7450\n",
            "Epoch 29/30\n",
            "100/100 [==============================] - 9s 89ms/step - loss: 0.0581 - acc: 0.9849 - val_loss: 0.8813 - val_acc: 0.7450\n",
            "Epoch 30/30\n",
            "100/100 [==============================] - 9s 90ms/step - loss: 0.0559 - acc: 0.9830 - val_loss: 0.9849 - val_acc: 0.7650\n"
          ],
          "name": "stdout"
        }
      ]
    },
    {
      "cell_type": "code",
      "metadata": {
        "id": "MZaZ2HWZsNUi",
        "colab": {
          "base_uri": "https://localhost:8080/",
          "height": 545
        },
        "outputId": "06c2c9d7-bb18-4cb8-d8ac-b1346767de7f"
      },
      "source": [
        "model.save('cats_and_dogs_small_1.h5')\n",
        "\n",
        "import matplotlib.pyplot as plt\n",
        "\n",
        "acc = history.history['acc']\n",
        "val_acc = history.history['val_acc']\n",
        "loss = history.history['loss']\n",
        "val_loss = history.history['val_loss']\n",
        "\n",
        "epochs = range(1, len(acc) + 1)\n",
        "\n",
        "plt.plot(epochs, acc, 'bo', label='Training acc')\n",
        "plt.plot(epochs, val_acc, 'b', label='Validation acc')\n",
        "plt.title('Training and validation accuracy')\n",
        "plt.legend()\n",
        "\n",
        "plt.figure()\n",
        "\n",
        "plt.plot(epochs, loss, 'bo', label='Training loss')\n",
        "plt.plot(epochs, val_loss, 'b', label='Validation loss')\n",
        "plt.title('Training and validation loss')\n",
        "plt.legend()\n",
        "\n",
        "plt.show()"
      ],
      "execution_count": null,
      "outputs": [
        {
          "output_type": "display_data",
          "data": {
            "image/png": "[encoded data removed]",
            "text/plain": [
              "<Figure size 432x288 with 1 Axes>"
            ]
          },
          "metadata": {
            "tags": [],
            "needs_background": "light"
          }
        },
        {
          "output_type": "display_data",
          "data": {
            "image/png": "[encoded data removed]",
            "text/plain": [
              "<Figure size 432x288 with 1 Axes>"
            ]
          },
          "metadata": {
            "tags": [],
            "needs_background": "light"
          }
        }
      ]
    },
    {
      "cell_type": "markdown",
      "metadata": {
        "id": "XKZmXmBcq_8-"
      },
      "source": [
        "## Convolutional Networks with Dropout\n",
        "\n",
        "![alt text](https://camo.githubusercontent.com/ee6fa1073247cd2c3d241300caf110d7a7541bc5/68747470733a2f2f63646e2d696d616765732d312e6d656469756d2e636f6d2f6d61782f3830302f312a4972644a355067684439596f4f7956415137334d4a772e676966)\n",
        "\n",
        "Ref: https://github.com/mneha4/Training-Neural-Nets---Guidelines"
      ]
    },
    {
      "cell_type": "code",
      "metadata": {
        "id": "wu3cqeYQrDeN"
      },
      "source": [
        "from keras import layers\n",
        "from keras import models\n",
        "from keras import optimizers\n",
        "model = models.Sequential()\n",
        "model.add(layers.Conv2D(32, (3, 3), activation='relu',\n",
        "input_shape=(150, 150, 3)))\n",
        "model.add(layers.MaxPooling2D((2, 2)))\n",
        "model.add(layers.Conv2D(64, (3, 3), activation='relu'))\n",
        "model.add(layers.MaxPooling2D((2, 2)))\n",
        "model.add(layers.Conv2D(128, (3, 3), activation='relu'))\n",
        "model.add(layers.MaxPooling2D((2, 2)))\n",
        "model.add(layers.Conv2D(128, (3, 3), activation='relu'))\n",
        "model.add(layers.MaxPooling2D((2, 2)))\n",
        "model.add(layers.Flatten())\n",
        "model.add(layers.Dropout(0.5))\n",
        "model.add(layers.Dense(512, activation='relu'))\n",
        "model.add(layers.Dense(1, activation='sigmoid'))\n",
        "\n",
        "model.compile(loss='binary_crossentropy',\n",
        "              optimizer=optimizers.RMSprop(lr=1e-4),\n",
        "              metrics=['acc'])"
      ],
      "execution_count": null,
      "outputs": []
    },
    {
      "cell_type": "code",
      "metadata": {
        "id": "QSeLpvY0rH7F",
        "colab": {
          "base_uri": "https://localhost:8080/"
        },
        "outputId": "03dcfd7e-c5c5-4498-c3d1-0c438b2f125f"
      },
      "source": [
        "\n",
        "train_datagen = ImageDataGenerator(rescale=1./255,\n",
        "                                   rotation_range=40,\n",
        "                                   width_shift_range=0.2,\n",
        "                                   height_shift_range=0.2,\n",
        "                                   shear_range=0.2,\n",
        "                                   zoom_range=0.2,\n",
        "                                   horizontal_flip=True,)\n",
        "\n",
        "test_datagen = ImageDataGenerator(rescale=1./255)\n",
        "\n",
        "train_generator = train_datagen.flow_from_directory(train_dir,\n",
        "                                                    target_size=(150, 150),\n",
        "                                                    batch_size=20,\n",
        "                                                    class_mode='binary')\n",
        "\n",
        "validation_generator = test_datagen.flow_from_directory(validation_dir,\n",
        "                                                        target_size=(150, 150),\n",
        "                                                        batch_size=20,\n",
        "                                                        class_mode='binary')\n",
        "\n"
      ],
      "execution_count": null,
      "outputs": [
        {
          "output_type": "stream",
          "text": [
            "Found 2000 images belonging to 2 classes.\n",
            "Found 1000 images belonging to 2 classes.\n"
          ],
          "name": "stdout"
        }
      ]
    },
    {
      "cell_type": "code",
      "metadata": {
        "id": "J9ETG4ISOaU9",
        "colab": {
          "base_uri": "https://localhost:8080/"
        },
        "outputId": "cab93e99-57b3-44b6-ad6b-5bd378409678"
      },
      "source": [
        "history = model.fit_generator(train_generator,\n",
        "                              steps_per_epoch=100,\n",
        "                              epochs=20,\n",
        "                              validation_data=validation_generator,\n",
        "                              validation_steps=50)"
      ],
      "execution_count": null,
      "outputs": [
        {
          "output_type": "stream",
          "text": [
            "/usr/local/lib/python3.7/dist-packages/tensorflow/python/keras/engine/training.py:1844: UserWarning: `Model.fit_generator` is deprecated and will be removed in a future version. Please use `Model.fit`, which supports generators.\n",
            "  warnings.warn('`Model.fit_generator` is deprecated and '\n"
          ],
          "name": "stderr"
        },
        {
          "output_type": "stream",
          "text": [
            "Epoch 1/20\n",
            "100/100 [==============================] - 23s 217ms/step - loss: 0.6955 - acc: 0.5184 - val_loss: 0.6810 - val_acc: 0.5370\n",
            "Epoch 2/20\n",
            "100/100 [==============================] - 22s 215ms/step - loss: 0.6818 - acc: 0.5512 - val_loss: 0.6782 - val_acc: 0.5380\n",
            "Epoch 3/20\n",
            "100/100 [==============================] - 22s 216ms/step - loss: 0.6670 - acc: 0.5840 - val_loss: 0.6733 - val_acc: 0.5660\n",
            "Epoch 4/20\n",
            "100/100 [==============================] - 21s 215ms/step - loss: 0.6650 - acc: 0.5952 - val_loss: 0.6246 - val_acc: 0.6430\n",
            "Epoch 5/20\n",
            "100/100 [==============================] - 21s 215ms/step - loss: 0.6385 - acc: 0.6308 - val_loss: 0.6667 - val_acc: 0.6020\n",
            "Epoch 6/20\n",
            "100/100 [==============================] - 22s 216ms/step - loss: 0.6284 - acc: 0.6311 - val_loss: 0.6446 - val_acc: 0.6080\n",
            "Epoch 7/20\n",
            "100/100 [==============================] - 22s 216ms/step - loss: 0.6107 - acc: 0.6592 - val_loss: 0.5937 - val_acc: 0.6880\n",
            "Epoch 8/20\n",
            "100/100 [==============================] - 22s 215ms/step - loss: 0.5993 - acc: 0.6644 - val_loss: 0.5806 - val_acc: 0.6930\n",
            "Epoch 9/20\n",
            "100/100 [==============================] - 22s 216ms/step - loss: 0.5739 - acc: 0.6976 - val_loss: 0.6231 - val_acc: 0.6240\n",
            "Epoch 10/20\n",
            "100/100 [==============================] - 22s 215ms/step - loss: 0.5923 - acc: 0.6907 - val_loss: 0.5725 - val_acc: 0.6870\n",
            "Epoch 11/20\n",
            "100/100 [==============================] - 21s 215ms/step - loss: 0.5797 - acc: 0.6887 - val_loss: 0.5815 - val_acc: 0.6900\n",
            "Epoch 12/20\n",
            "100/100 [==============================] - 22s 216ms/step - loss: 0.5724 - acc: 0.6874 - val_loss: 0.5561 - val_acc: 0.7170\n",
            "Epoch 13/20\n",
            "100/100 [==============================] - 22s 216ms/step - loss: 0.5648 - acc: 0.6848 - val_loss: 0.6006 - val_acc: 0.6700\n",
            "Epoch 14/20\n",
            "100/100 [==============================] - 22s 215ms/step - loss: 0.5701 - acc: 0.7091 - val_loss: 0.5226 - val_acc: 0.7500\n",
            "Epoch 15/20\n",
            "100/100 [==============================] - 21s 215ms/step - loss: 0.5663 - acc: 0.7048 - val_loss: 0.5395 - val_acc: 0.7280\n",
            "Epoch 16/20\n",
            "100/100 [==============================] - 22s 215ms/step - loss: 0.5604 - acc: 0.7190 - val_loss: 0.5248 - val_acc: 0.7390\n",
            "Epoch 17/20\n",
            "100/100 [==============================] - 21s 215ms/step - loss: 0.5458 - acc: 0.7259 - val_loss: 0.5861 - val_acc: 0.6800\n",
            "Epoch 18/20\n",
            "100/100 [==============================] - 22s 215ms/step - loss: 0.5453 - acc: 0.7252 - val_loss: 0.5169 - val_acc: 0.7440\n",
            "Epoch 19/20\n",
            "100/100 [==============================] - 21s 215ms/step - loss: 0.5410 - acc: 0.7396 - val_loss: 0.5241 - val_acc: 0.7350\n",
            "Epoch 20/20\n",
            "100/100 [==============================] - 22s 216ms/step - loss: 0.5538 - acc: 0.7003 - val_loss: 0.5429 - val_acc: 0.7140\n"
          ],
          "name": "stdout"
        }
      ]
    },
    {
      "cell_type": "markdown",
      "metadata": {
        "id": "BRdU5yrkUF_b"
      },
      "source": [
        "# Task 2:\n",
        "\n",
        "We have used Dropout to enhance the performance of the CNN model. Can you please use whatever you like to further enhance the performance from `val_acc: 0.7140`? "
      ]
    },
    {
      "cell_type": "code",
      "metadata": {
        "colab": {
          "base_uri": "https://localhost:8080/"
        },
        "id": "BwDM6MBeOP8v",
        "outputId": "f1cdef17-7723-4a52-ab7c-bb5daa192d15"
      },
      "source": [
        "train_generator = train_datagen.flow_from_directory(train_dir,\n",
        "                                                    target_size=(150, 150),\n",
        "                                                    batch_size=32,\n",
        "                                                    class_mode='binary')\n",
        "\n",
        "validation_generator = test_datagen.flow_from_directory(validation_dir,\n",
        "                                                        target_size=(150, 150),\n",
        "                                                        batch_size=32,\n",
        "                                                        class_mode='binary')\n",
        "\n",
        "model.fit_generator(train_generator,\n",
        "                              steps_per_epoch=1500//32,\n",
        "                              epochs=64,\n",
        "                              validation_data=validation_generator,\n",
        "                              validation_steps=1500//32)"
      ],
      "execution_count": null,
      "outputs": [
        {
          "output_type": "stream",
          "text": [
            "Found 2000 images belonging to 2 classes.\n",
            "Found 1000 images belonging to 2 classes.\n"
          ],
          "name": "stdout"
        },
        {
          "output_type": "stream",
          "text": [
            "/usr/local/lib/python3.7/dist-packages/tensorflow/python/keras/engine/training.py:1844: UserWarning: `Model.fit_generator` is deprecated and will be removed in a future version. Please use `Model.fit`, which supports generators.\n",
            "  warnings.warn('`Model.fit_generator` is deprecated and '\n"
          ],
          "name": "stderr"
        },
        {
          "output_type": "stream",
          "text": [
            "Epoch 1/64\n",
            "46/46 [==============================] - ETA: 0s - loss: 0.5351 - acc: 0.7301WARNING:tensorflow:Your input ran out of data; interrupting training. Make sure that your dataset or generator can generate at least `steps_per_epoch * epochs` batches (in this case, 46 batches). You may need to use the repeat() function when building your dataset.\n",
            "46/46 [==============================] - 17s 358ms/step - loss: 0.5351 - acc: 0.7301 - val_loss: 0.5073 - val_acc: 0.7550\n",
            "Epoch 2/64\n",
            "46/46 [==============================] - 13s 275ms/step - loss: 0.5311 - acc: 0.7315\n",
            "Epoch 3/64\n",
            "46/46 [==============================] - 13s 275ms/step - loss: 0.5401 - acc: 0.7321\n",
            "Epoch 4/64\n",
            "46/46 [==============================] - 13s 278ms/step - loss: 0.5260 - acc: 0.7328\n",
            "Epoch 5/64\n",
            "46/46 [==============================] - 13s 282ms/step - loss: 0.5250 - acc: 0.7301\n",
            "Epoch 6/64\n",
            "46/46 [==============================] - 13s 281ms/step - loss: 0.5210 - acc: 0.7445\n",
            "Epoch 7/64\n",
            "46/46 [==============================] - 13s 282ms/step - loss: 0.5357 - acc: 0.7266\n",
            "Epoch 8/64\n",
            "46/46 [==============================] - 13s 282ms/step - loss: 0.5186 - acc: 0.7301\n",
            "Epoch 9/64\n",
            "46/46 [==============================] - 13s 283ms/step - loss: 0.5411 - acc: 0.7342\n",
            "Epoch 10/64\n",
            "46/46 [==============================] - 13s 283ms/step - loss: 0.5054 - acc: 0.7534\n",
            "Epoch 11/64\n",
            "46/46 [==============================] - 13s 281ms/step - loss: 0.5042 - acc: 0.7521\n",
            "Epoch 12/64\n",
            "46/46 [==============================] - 13s 284ms/step - loss: 0.5051 - acc: 0.7412\n",
            "Epoch 13/64\n",
            "46/46 [==============================] - 13s 282ms/step - loss: 0.5027 - acc: 0.7507\n",
            "Epoch 14/64\n",
            "46/46 [==============================] - 13s 280ms/step - loss: 0.5038 - acc: 0.7466\n",
            "Epoch 15/64\n",
            "46/46 [==============================] - 13s 280ms/step - loss: 0.4975 - acc: 0.7644\n",
            "Epoch 16/64\n",
            "46/46 [==============================] - 13s 280ms/step - loss: 0.5023 - acc: 0.7521\n",
            "Epoch 17/64\n",
            "46/46 [==============================] - 13s 281ms/step - loss: 0.5132 - acc: 0.7493\n",
            "Epoch 18/64\n",
            "46/46 [==============================] - 13s 282ms/step - loss: 0.4947 - acc: 0.7527\n",
            "Epoch 19/64\n",
            "46/46 [==============================] - 13s 281ms/step - loss: 0.4921 - acc: 0.7617\n",
            "Epoch 20/64\n",
            "46/46 [==============================] - 13s 279ms/step - loss: 0.5031 - acc: 0.7466\n",
            "Epoch 21/64\n",
            "46/46 [==============================] - 13s 280ms/step - loss: 0.5007 - acc: 0.7630\n",
            "Epoch 22/64\n",
            "46/46 [==============================] - 13s 283ms/step - loss: 0.4847 - acc: 0.7656\n",
            "Epoch 23/64\n",
            "46/46 [==============================] - 13s 280ms/step - loss: 0.4884 - acc: 0.7617\n",
            "Epoch 24/64\n",
            "46/46 [==============================] - 13s 284ms/step - loss: 0.4772 - acc: 0.7711\n",
            "Epoch 25/64\n",
            "46/46 [==============================] - 13s 281ms/step - loss: 0.4933 - acc: 0.7459\n",
            "Epoch 26/64\n",
            "46/46 [==============================] - 13s 280ms/step - loss: 0.4955 - acc: 0.7637\n",
            "Epoch 27/64\n",
            "46/46 [==============================] - 13s 282ms/step - loss: 0.4933 - acc: 0.7720\n",
            "Epoch 28/64\n",
            "46/46 [==============================] - 13s 280ms/step - loss: 0.4774 - acc: 0.7768\n",
            "Epoch 29/64\n",
            "46/46 [==============================] - 13s 282ms/step - loss: 0.4702 - acc: 0.7658\n",
            "Epoch 30/64\n",
            "46/46 [==============================] - 13s 282ms/step - loss: 0.4975 - acc: 0.7445\n",
            "Epoch 31/64\n",
            "46/46 [==============================] - 13s 278ms/step - loss: 0.4956 - acc: 0.7555\n",
            "Epoch 32/64\n",
            "46/46 [==============================] - 13s 277ms/step - loss: 0.4779 - acc: 0.7672\n",
            "Epoch 33/64\n",
            "46/46 [==============================] - 13s 282ms/step - loss: 0.4678 - acc: 0.7905\n",
            "Epoch 34/64\n",
            "46/46 [==============================] - 13s 278ms/step - loss: 0.4868 - acc: 0.7582\n",
            "Epoch 35/64\n",
            "46/46 [==============================] - 13s 280ms/step - loss: 0.4622 - acc: 0.7806\n",
            "Epoch 36/64\n",
            "46/46 [==============================] - 13s 282ms/step - loss: 0.4952 - acc: 0.7507\n",
            "Epoch 37/64\n",
            "46/46 [==============================] - 13s 277ms/step - loss: 0.4678 - acc: 0.7809\n",
            "Epoch 38/64\n",
            "46/46 [==============================] - 13s 277ms/step - loss: 0.4526 - acc: 0.7837\n",
            "Epoch 39/64\n",
            "46/46 [==============================] - 13s 278ms/step - loss: 0.4682 - acc: 0.7740\n",
            "Epoch 40/64\n",
            "46/46 [==============================] - 13s 282ms/step - loss: 0.4365 - acc: 0.7860\n",
            "Epoch 41/64\n",
            "46/46 [==============================] - 13s 280ms/step - loss: 0.4636 - acc: 0.7734\n",
            "Epoch 42/64\n",
            "46/46 [==============================] - 13s 283ms/step - loss: 0.4676 - acc: 0.7704\n",
            "Epoch 43/64\n",
            "46/46 [==============================] - 13s 281ms/step - loss: 0.4692 - acc: 0.7795\n",
            "Epoch 44/64\n",
            "46/46 [==============================] - 13s 282ms/step - loss: 0.4494 - acc: 0.7894\n",
            "Epoch 45/64\n",
            "46/46 [==============================] - 13s 279ms/step - loss: 0.4783 - acc: 0.7754\n",
            "Epoch 46/64\n",
            "46/46 [==============================] - 13s 279ms/step - loss: 0.4629 - acc: 0.7775\n",
            "Epoch 47/64\n",
            "46/46 [==============================] - 13s 283ms/step - loss: 0.4742 - acc: 0.7779\n",
            "Epoch 48/64\n",
            "46/46 [==============================] - 13s 280ms/step - loss: 0.4658 - acc: 0.7850\n",
            "Epoch 49/64\n",
            "46/46 [==============================] - 13s 279ms/step - loss: 0.4368 - acc: 0.7933\n",
            "Epoch 50/64\n",
            "46/46 [==============================] - 13s 283ms/step - loss: 0.4446 - acc: 0.7969\n",
            "Epoch 51/64\n",
            "46/46 [==============================] - 13s 280ms/step - loss: 0.4562 - acc: 0.7871\n",
            "Epoch 52/64\n",
            "46/46 [==============================] - 13s 281ms/step - loss: 0.4444 - acc: 0.7967\n",
            "Epoch 53/64\n",
            "46/46 [==============================] - 13s 286ms/step - loss: 0.4431 - acc: 0.7948\n",
            "Epoch 54/64\n",
            "46/46 [==============================] - 13s 281ms/step - loss: 0.4449 - acc: 0.7878\n",
            "Epoch 55/64\n",
            "46/46 [==============================] - 13s 284ms/step - loss: 0.4403 - acc: 0.7935\n",
            "Epoch 56/64\n",
            "46/46 [==============================] - 13s 279ms/step - loss: 0.4552 - acc: 0.7850\n",
            "Epoch 57/64\n",
            "46/46 [==============================] - 13s 282ms/step - loss: 0.4444 - acc: 0.7988\n",
            "Epoch 58/64\n",
            "46/46 [==============================] - 13s 283ms/step - loss: 0.4324 - acc: 0.7955\n",
            "Epoch 59/64\n",
            "46/46 [==============================] - 13s 284ms/step - loss: 0.4320 - acc: 0.8029\n",
            "Epoch 60/64\n",
            "46/46 [==============================] - 13s 282ms/step - loss: 0.4493 - acc: 0.7981\n",
            "Epoch 61/64\n",
            "46/46 [==============================] - 13s 281ms/step - loss: 0.4391 - acc: 0.7940\n",
            "Epoch 62/64\n",
            "46/46 [==============================] - 13s 283ms/step - loss: 0.4228 - acc: 0.7960\n",
            "Epoch 63/64\n",
            "46/46 [==============================] - 13s 282ms/step - loss: 0.4481 - acc: 0.7823\n",
            "Epoch 64/64\n",
            "46/46 [==============================] - 13s 282ms/step - loss: 0.4192 - acc: 0.8022\n"
          ],
          "name": "stdout"
        },
        {
          "output_type": "execute_result",
          "data": {
            "text/plain": [
              "<tensorflow.python.keras.callbacks.History at 0x7fa4a194f250>"
            ]
          },
          "metadata": {
            "tags": []
          },
          "execution_count": 16
        }
      ]
    },
    {
      "cell_type": "markdown",
      "metadata": {
        "id": "3WeNZwhmOnIg"
      },
      "source": [
        "We got 80.22% accuracy at Epoch 64"
      ]
    },
    {
      "cell_type": "code",
      "metadata": {
        "id": "VwzS1mQkRwE0"
      },
      "source": [
        ""
      ],
      "execution_count": null,
      "outputs": []
    }
  ]
}